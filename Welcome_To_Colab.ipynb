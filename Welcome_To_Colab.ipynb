{
  "cells": [
    {
      "cell_type": "code",
      "source": [
        "import requests\n",
        "from bs4 import BeautifulSoup\n",
        "\n",
        "# Start a session\n",
        "session = requests.Session()\n",
        "\n",
        "# URL for the login page and the attendance page\n",
        "login_url = 'https://sp.srmist.edu.in/srmiststudentportal/loginURl'  # Replace with the actual login URL\n",
        "attendance_url = 'https://sp.srmist.edu.in/srmiststudentportal/students/template/HRDSystem.jsp#!'\n",
        "\n",
        "# Your credentials\n",
        "payload = {\n",
        "    'username': 'sa3787',  # Replace with your username\n",
        "    'password': 'Berhampur@2003'   # Replace with your password\n",
        "}\n",
        "\n",
        "# Log in to the portal\n",
        "response = session.post(login_url, data=payload)\n",
        "\n",
        "if \"login failed\" in response.text.lower():\n",
        "    print(\"Login failed. Check your username and password.\")\n",
        "else:\n",
        "    print(\"Login successful.\")\n",
        "    response = session.get(attendance_url)\n",
        "    soup = BeautifulSoup(response.content, 'html.parser')\n",
        "\n",
        "    # Example selector for attendance data\n",
        "    attendance_data = soup.find_all('div', class_=' Course Wise Attendance (%)')  # Update with correct selector\n",
        "\n",
        "    for attendance in attendance_data:\n",
        "        print(attendance.text.strip())\n"
      ],
      "metadata": {
        "colab": {
          "base_uri": "https://localhost:8080/"
        },
        "id": "ShfaTF7D-s6J",
        "outputId": "06acd1d3-41a9-4d02-90c7-76fc32be4075"
      },
      "execution_count": 13,
      "outputs": [
        {
          "output_type": "stream",
          "name": "stdout",
          "text": [
            "Login successful.\n"
          ]
        }
      ]
    }
  ],
  "metadata": {
    "colab": {
      "name": "Welcome To Colab",
      "toc_visible": true,
      "provenance": []
    },
    "kernelspec": {
      "display_name": "Python 3",
      "name": "python3"
    }
  },
  "nbformat": 4,
  "nbformat_minor": 0
}